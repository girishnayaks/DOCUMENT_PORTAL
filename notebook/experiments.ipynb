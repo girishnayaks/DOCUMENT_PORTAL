{
 "cells": [
  {
   "cell_type": "code",
   "execution_count": 1,
   "id": "d01d7b92",
   "metadata": {},
   "outputs": [
    {
     "name": "stdout",
     "output_type": "stream",
     "text": [
      "all_ok\n"
     ]
    }
   ],
   "source": [
    "print(\"all_ok\")"
   ]
  },
  {
   "cell_type": "code",
   "execution_count": 3,
   "id": "6f20b171",
   "metadata": {},
   "outputs": [
    {
     "name": "stdout",
     "output_type": "stream",
     "text": [
      "Collecting langchain_groqNote: you may need to restart the kernel to use updated packages.\n",
      "\n",
      "  Using cached langchain_groq-0.3.6-py3-none-any.whl.metadata (2.6 kB)\n",
      "Collecting langchain-core<1.0.0,>=0.3.68 (from langchain_groq)\n",
      "  Using cached langchain_core-0.3.72-py3-none-any.whl.metadata (5.8 kB)\n",
      "Collecting groq<1,>=0.29.0 (from langchain_groq)\n",
      "  Downloading groq-0.30.0-py3-none-any.whl.metadata (16 kB)\n",
      "Collecting anyio<5,>=3.5.0 (from groq<1,>=0.29.0->langchain_groq)\n",
      "  Downloading anyio-4.9.0-py3-none-any.whl.metadata (4.7 kB)\n",
      "Collecting distro<2,>=1.7.0 (from groq<1,>=0.29.0->langchain_groq)\n",
      "  Downloading distro-1.9.0-py3-none-any.whl.metadata (6.8 kB)\n",
      "Collecting httpx<1,>=0.23.0 (from groq<1,>=0.29.0->langchain_groq)\n",
      "  Downloading httpx-0.28.1-py3-none-any.whl.metadata (7.1 kB)\n",
      "Collecting pydantic<3,>=1.9.0 (from groq<1,>=0.29.0->langchain_groq)\n",
      "  Downloading pydantic-2.11.7-py3-none-any.whl.metadata (67 kB)\n",
      "Collecting sniffio (from groq<1,>=0.29.0->langchain_groq)\n",
      "  Downloading sniffio-1.3.1-py3-none-any.whl.metadata (3.9 kB)\n",
      "Requirement already satisfied: typing-extensions<5,>=4.10 in c:\\users\\giris\\anaconda3\\envs\\myenv\\lib\\site-packages (from groq<1,>=0.29.0->langchain_groq) (4.14.1)\n",
      "Requirement already satisfied: exceptiongroup>=1.0.2 in c:\\users\\giris\\anaconda3\\envs\\myenv\\lib\\site-packages (from anyio<5,>=3.5.0->groq<1,>=0.29.0->langchain_groq) (1.3.0)\n",
      "Collecting idna>=2.8 (from anyio<5,>=3.5.0->groq<1,>=0.29.0->langchain_groq)\n",
      "  Downloading idna-3.10-py3-none-any.whl.metadata (10 kB)\n",
      "Collecting certifi (from httpx<1,>=0.23.0->groq<1,>=0.29.0->langchain_groq)\n",
      "  Downloading certifi-2025.7.14-py3-none-any.whl.metadata (2.4 kB)\n",
      "Collecting httpcore==1.* (from httpx<1,>=0.23.0->groq<1,>=0.29.0->langchain_groq)\n",
      "  Downloading httpcore-1.0.9-py3-none-any.whl.metadata (21 kB)\n",
      "Collecting h11>=0.16 (from httpcore==1.*->httpx<1,>=0.23.0->groq<1,>=0.29.0->langchain_groq)\n",
      "  Downloading h11-0.16.0-py3-none-any.whl.metadata (8.3 kB)\n",
      "Collecting langsmith>=0.3.45 (from langchain-core<1.0.0,>=0.3.68->langchain_groq)\n",
      "  Using cached langsmith-0.4.8-py3-none-any.whl.metadata (15 kB)\n",
      "Collecting tenacity!=8.4.0,<10.0.0,>=8.1.0 (from langchain-core<1.0.0,>=0.3.68->langchain_groq)\n",
      "  Downloading tenacity-9.1.2-py3-none-any.whl.metadata (1.2 kB)\n",
      "Collecting jsonpatch<2.0,>=1.33 (from langchain-core<1.0.0,>=0.3.68->langchain_groq)\n",
      "  Using cached jsonpatch-1.33-py2.py3-none-any.whl.metadata (3.0 kB)\n",
      "Collecting PyYAML>=5.3 (from langchain-core<1.0.0,>=0.3.68->langchain_groq)\n",
      "  Downloading PyYAML-6.0.2-cp310-cp310-win_amd64.whl.metadata (2.1 kB)\n",
      "Requirement already satisfied: packaging>=23.2 in c:\\users\\giris\\anaconda3\\envs\\myenv\\lib\\site-packages (from langchain-core<1.0.0,>=0.3.68->langchain_groq) (25.0)\n",
      "Collecting jsonpointer>=1.9 (from jsonpatch<2.0,>=1.33->langchain-core<1.0.0,>=0.3.68->langchain_groq)\n",
      "  Downloading jsonpointer-3.0.0-py2.py3-none-any.whl.metadata (2.3 kB)\n",
      "Collecting annotated-types>=0.6.0 (from pydantic<3,>=1.9.0->groq<1,>=0.29.0->langchain_groq)\n",
      "  Downloading annotated_types-0.7.0-py3-none-any.whl.metadata (15 kB)\n",
      "Collecting pydantic-core==2.33.2 (from pydantic<3,>=1.9.0->groq<1,>=0.29.0->langchain_groq)\n",
      "  Downloading pydantic_core-2.33.2-cp310-cp310-win_amd64.whl.metadata (6.9 kB)\n",
      "Collecting typing-inspection>=0.4.0 (from pydantic<3,>=1.9.0->groq<1,>=0.29.0->langchain_groq)\n",
      "  Downloading typing_inspection-0.4.1-py3-none-any.whl.metadata (2.6 kB)\n",
      "Collecting orjson<4.0.0,>=3.9.14 (from langsmith>=0.3.45->langchain-core<1.0.0,>=0.3.68->langchain_groq)\n",
      "  Downloading orjson-3.11.1-cp310-cp310-win_amd64.whl.metadata (43 kB)\n",
      "Collecting requests<3,>=2 (from langsmith>=0.3.45->langchain-core<1.0.0,>=0.3.68->langchain_groq)\n",
      "  Downloading requests-2.32.4-py3-none-any.whl.metadata (4.9 kB)\n",
      "Collecting requests-toolbelt<2.0.0,>=1.0.0 (from langsmith>=0.3.45->langchain-core<1.0.0,>=0.3.68->langchain_groq)\n",
      "  Downloading requests_toolbelt-1.0.0-py2.py3-none-any.whl.metadata (14 kB)\n",
      "Collecting zstandard<0.24.0,>=0.23.0 (from langsmith>=0.3.45->langchain-core<1.0.0,>=0.3.68->langchain_groq)\n",
      "  Downloading zstandard-0.23.0-cp310-cp310-win_amd64.whl.metadata (3.0 kB)\n",
      "Collecting charset_normalizer<4,>=2 (from requests<3,>=2->langsmith>=0.3.45->langchain-core<1.0.0,>=0.3.68->langchain_groq)\n",
      "  Downloading charset_normalizer-3.4.2-cp310-cp310-win_amd64.whl.metadata (36 kB)\n",
      "Collecting urllib3<3,>=1.21.1 (from requests<3,>=2->langsmith>=0.3.45->langchain-core<1.0.0,>=0.3.68->langchain_groq)\n",
      "  Downloading urllib3-2.5.0-py3-none-any.whl.metadata (6.5 kB)\n",
      "Using cached langchain_groq-0.3.6-py3-none-any.whl (16 kB)\n",
      "Downloading groq-0.30.0-py3-none-any.whl (131 kB)\n",
      "Downloading anyio-4.9.0-py3-none-any.whl (100 kB)\n",
      "Downloading distro-1.9.0-py3-none-any.whl (20 kB)\n",
      "Downloading httpx-0.28.1-py3-none-any.whl (73 kB)\n",
      "Downloading httpcore-1.0.9-py3-none-any.whl (78 kB)\n",
      "Using cached langchain_core-0.3.72-py3-none-any.whl (442 kB)\n",
      "Using cached jsonpatch-1.33-py2.py3-none-any.whl (12 kB)\n",
      "Downloading pydantic-2.11.7-py3-none-any.whl (444 kB)\n",
      "Downloading pydantic_core-2.33.2-cp310-cp310-win_amd64.whl (2.0 MB)\n",
      "   ---------------------------------------- 0.0/2.0 MB ? eta -:--:--\n",
      "   ----- ---------------------------------- 0.3/2.0 MB ? eta -:--:--\n",
      "   ---------------- ----------------------- 0.8/2.0 MB 1.8 MB/s eta 0:00:01\n",
      "   -------------------------- ------------- 1.3/2.0 MB 2.4 MB/s eta 0:00:01\n",
      "   ---------------------------------------- 2.0/2.0 MB 2.5 MB/s eta 0:00:00\n",
      "Downloading tenacity-9.1.2-py3-none-any.whl (28 kB)\n",
      "Downloading annotated_types-0.7.0-py3-none-any.whl (13 kB)\n",
      "Downloading h11-0.16.0-py3-none-any.whl (37 kB)\n",
      "Downloading idna-3.10-py3-none-any.whl (70 kB)\n",
      "Downloading jsonpointer-3.0.0-py2.py3-none-any.whl (7.6 kB)\n",
      "Using cached langsmith-0.4.8-py3-none-any.whl (367 kB)\n",
      "Downloading orjson-3.11.1-cp310-cp310-win_amd64.whl (131 kB)\n",
      "Downloading requests-2.32.4-py3-none-any.whl (64 kB)\n",
      "Downloading charset_normalizer-3.4.2-cp310-cp310-win_amd64.whl (105 kB)\n",
      "Downloading requests_toolbelt-1.0.0-py2.py3-none-any.whl (54 kB)\n",
      "Downloading urllib3-2.5.0-py3-none-any.whl (129 kB)\n",
      "Downloading zstandard-0.23.0-cp310-cp310-win_amd64.whl (495 kB)\n",
      "Downloading certifi-2025.7.14-py3-none-any.whl (162 kB)\n",
      "Downloading PyYAML-6.0.2-cp310-cp310-win_amd64.whl (161 kB)\n",
      "Downloading sniffio-1.3.1-py3-none-any.whl (10 kB)\n",
      "Downloading typing_inspection-0.4.1-py3-none-any.whl (14 kB)\n",
      "Installing collected packages: zstandard, urllib3, typing-inspection, tenacity, sniffio, PyYAML, pydantic-core, orjson, jsonpointer, idna, h11, distro, charset_normalizer, certifi, annotated-types, requests, pydantic, jsonpatch, httpcore, anyio, requests-toolbelt, httpx, langsmith, groq, langchain-core, langchain_groq\n",
      "\n",
      "   - --------------------------------------  1/26 [urllib3]\n",
      "   - --------------------------------------  1/26 [urllib3]\n",
      "   ---- -----------------------------------  3/26 [tenacity]\n",
      "   ------- --------------------------------  5/26 [PyYAML]\n",
      "   --------- ------------------------------  6/26 [pydantic-core]\n",
      "   ------------- --------------------------  9/26 [idna]\n",
      "   --------------- ------------------------ 10/26 [h11]\n",
      "   ------------------ --------------------- 12/26 [charset_normalizer]\n",
      "   ----------------------- ---------------- 15/26 [requests]\n",
      "   ------------------------ --------------- 16/26 [pydantic]\n",
      "   ------------------------ --------------- 16/26 [pydantic]\n",
      "   ------------------------ --------------- 16/26 [pydantic]\n",
      "   ------------------------ --------------- 16/26 [pydantic]\n",
      "   -------------------------- ------------- 17/26 [jsonpatch]\n",
      "   --------------------------- ------------ 18/26 [httpcore]\n",
      "   ----------------------------- ---------- 19/26 [anyio]\n",
      "   ----------------------------- ---------- 19/26 [anyio]\n",
      "   ------------------------------ --------- 20/26 [requests-toolbelt]\n",
      "   -------------------------------- ------- 21/26 [httpx]\n",
      "   --------------------------------- ------ 22/26 [langsmith]\n",
      "   --------------------------------- ------ 22/26 [langsmith]\n",
      "   --------------------------------- ------ 22/26 [langsmith]\n",
      "   ----------------------------------- ---- 23/26 [groq]\n",
      "   ----------------------------------- ---- 23/26 [groq]\n",
      "   ----------------------------------- ---- 23/26 [groq]\n",
      "   ------------------------------------ --- 24/26 [langchain-core]\n",
      "   ------------------------------------ --- 24/26 [langchain-core]\n",
      "   ------------------------------------ --- 24/26 [langchain-core]\n",
      "   ------------------------------------ --- 24/26 [langchain-core]\n",
      "   ------------------------------------ --- 24/26 [langchain-core]\n",
      "   ------------------------------------ --- 24/26 [langchain-core]\n",
      "   ------------------------------------ --- 24/26 [langchain-core]\n",
      "   ---------------------------------------- 26/26 [langchain_groq]\n",
      "\n",
      "Successfully installed PyYAML-6.0.2 annotated-types-0.7.0 anyio-4.9.0 certifi-2025.7.14 charset_normalizer-3.4.2 distro-1.9.0 groq-0.30.0 h11-0.16.0 httpcore-1.0.9 httpx-0.28.1 idna-3.10 jsonpatch-1.33 jsonpointer-3.0.0 langchain-core-0.3.72 langchain_groq-0.3.6 langsmith-0.4.8 orjson-3.11.1 pydantic-2.11.7 pydantic-core-2.33.2 requests-2.32.4 requests-toolbelt-1.0.0 sniffio-1.3.1 tenacity-9.1.2 typing-inspection-0.4.1 urllib3-2.5.0 zstandard-0.23.0\n"
     ]
    }
   ],
   "source": [
    "%pip install langchain_groq"
   ]
  },
  {
   "cell_type": "code",
   "execution_count": 1,
   "id": "a67d6b62",
   "metadata": {},
   "outputs": [],
   "source": [
    "from langchain_groq import ChatGroq"
   ]
  },
  {
   "cell_type": "code",
   "execution_count": 3,
   "id": "8c166830",
   "metadata": {},
   "outputs": [
    {
     "name": "stdout",
     "output_type": "stream",
     "text": [
      "Collecting dotenv\n",
      "  Downloading dotenv-0.9.9-py2.py3-none-any.whl.metadata (279 bytes)\n",
      "Collecting python-dotenv (from dotenv)\n",
      "  Downloading python_dotenv-1.1.1-py3-none-any.whl.metadata (24 kB)\n",
      "Downloading dotenv-0.9.9-py2.py3-none-any.whl (1.9 kB)\n",
      "Downloading python_dotenv-1.1.1-py3-none-any.whl (20 kB)\n",
      "Installing collected packages: python-dotenv, dotenv\n",
      "\n",
      "   ---------------------------------------- 2/2 [dotenv]\n",
      "\n",
      "Successfully installed dotenv-0.9.9 python-dotenv-1.1.1\n",
      "Note: you may need to restart the kernel to use updated packages.\n"
     ]
    }
   ],
   "source": [
    "%pip install dotenv"
   ]
  },
  {
   "cell_type": "code",
   "execution_count": 4,
   "id": "499d8915",
   "metadata": {},
   "outputs": [],
   "source": [
    "from dotenv import load_dotenv"
   ]
  },
  {
   "cell_type": "code",
   "execution_count": 5,
   "id": "a3a2a819",
   "metadata": {},
   "outputs": [
    {
     "data": {
      "text/plain": [
       "True"
      ]
     },
     "execution_count": 5,
     "metadata": {},
     "output_type": "execute_result"
    }
   ],
   "source": [
    "load_dotenv()\n"
   ]
  },
  {
   "cell_type": "code",
   "execution_count": 9,
   "id": "e4bc4b7b",
   "metadata": {},
   "outputs": [],
   "source": [
    "model=ChatGroq(model=\"qwen/qwen3-32b\")"
   ]
  },
  {
   "cell_type": "code",
   "execution_count": 10,
   "id": "a4e68b7b",
   "metadata": {},
   "outputs": [
    {
     "data": {
      "text/plain": [
       "\"<think>\\nOkay, so the user is asking who the Prime Minister of India is. Let me think. I know that the Prime Minister is the head of government in India. The country has a parliamentary system, so the Prime Minister is usually the leader of the majority party in the Lok Sabha, which is the lower house of Parliament.\\n\\nI should remember that as of my last training data in October 2023, the current Prime Minister is Narendra Modi. He's been in office since 2014 and then re-elected in 2019. His party is the Bharatiya Janata Party (BJP). But wait, maybe there's been a change after that? Let me check the timeline. The last election in India was in 2024, right? So the general elections in 2024 might have resulted in a new government. But I don't have information beyond October 2023. So if the user is asking now, in 2023, the answer is still Narendra Modi. However, if it's 2024 or later, there might be a new Prime Minister. But since the user hasn't specified the date, I need to mention the current one as of my knowledge cutoff. Also, I should note that my information might be outdated if there's been a recent election. So the best approach is to state that as of October 2023, the Prime Minister is Narendra Modi, and advise the user to check for the latest updates if necessary. Additionally, I should mention the party he belongs to and maybe a bit about his tenure to give context. Let me structure the answer clearly, starting with the current PM, then the date of my information, and a note about possible changes.\\n</think>\\n\\nAs of my last training data in October 2023, **Narendra Modi** is the Prime Minister of India. He has served in this role since May 26, 2014, and was re-elected in the 2019 and 2024 general elections. He leads the **Bharatiya Janata Party (BJP)**, which is India's ruling party.\\n\\n**Note:** If you are asking this question in 2025 or later, there may be a new Prime Minister following India's 2024 general elections. For the most up-to-date information, I recommend checking a current and reliable news source.\""
      ]
     },
     "execution_count": 10,
     "metadata": {},
     "output_type": "execute_result"
    }
   ],
   "source": [
    "model.invoke(\"Who is Prime Minister of India?\").content"
   ]
  },
  {
   "cell_type": "code",
   "execution_count": 16,
   "id": "9ec43c47",
   "metadata": {},
   "outputs": [
    {
     "ename": "ModuleNotFoundError",
     "evalue": "No module named 'langchain_google_genai'",
     "output_type": "error",
     "traceback": [
      "\u001b[1;31m---------------------------------------------------------------------------\u001b[0m",
      "\u001b[1;31mModuleNotFoundError\u001b[0m                       Traceback (most recent call last)",
      "Cell \u001b[1;32mIn[16], line 1\u001b[0m\n\u001b[1;32m----> 1\u001b[0m \u001b[38;5;28;01mfrom\u001b[39;00m\u001b[38;5;250m \u001b[39m\u001b[38;5;21;01mlangchain_google_genai\u001b[39;00m\u001b[38;5;250m \u001b[39m\u001b[38;5;28;01mimport\u001b[39;00m GoogleGenerativeAIEmbeddings\n",
      "\u001b[1;31mModuleNotFoundError\u001b[0m: No module named 'langchain_google_genai'"
     ]
    }
   ],
   "source": [
    "from langchain_google_genai import GoogleGenerativeAIEmbeddings"
   ]
  },
  {
   "cell_type": "code",
   "execution_count": 14,
   "id": "55be94a6",
   "metadata": {},
   "outputs": [
    {
     "ename": "NameError",
     "evalue": "name 'GoogleGenerativeAIEmbeddings' is not defined",
     "output_type": "error",
     "traceback": [
      "\u001b[1;31m---------------------------------------------------------------------------\u001b[0m",
      "\u001b[1;31mNameError\u001b[0m                                 Traceback (most recent call last)",
      "Cell \u001b[1;32mIn[14], line 1\u001b[0m\n\u001b[1;32m----> 1\u001b[0m embedding_model\u001b[38;5;241m=\u001b[39m\u001b[43mGoogleGenerativeAIEmbeddings\u001b[49m(model\u001b[38;5;241m=\u001b[39m\u001b[38;5;124m\"\u001b[39m\u001b[38;5;124mmodels/embedding-001\u001b[39m\u001b[38;5;124m\"\u001b[39m)\n",
      "\u001b[1;31mNameError\u001b[0m: name 'GoogleGenerativeAIEmbeddings' is not defined"
     ]
    }
   ],
   "source": [
    "embedding_model=GoogleGenerativeAIEmbeddings(model=\"models/embedding-001\")"
   ]
  }
 ],
 "metadata": {
  "kernelspec": {
   "display_name": "myenv",
   "language": "python",
   "name": "python3"
  },
  "language_info": {
   "codemirror_mode": {
    "name": "ipython",
    "version": 3
   },
   "file_extension": ".py",
   "mimetype": "text/x-python",
   "name": "python",
   "nbconvert_exporter": "python",
   "pygments_lexer": "ipython3",
   "version": "3.10.18"
  }
 },
 "nbformat": 4,
 "nbformat_minor": 5
}
